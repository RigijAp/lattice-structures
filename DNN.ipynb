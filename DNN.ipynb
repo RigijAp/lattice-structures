{
 "cells": [
  {
   "cell_type": "markdown",
   "metadata": {
    "id": "YcYypbLg4sN5"
   },
   "source": [
    "# Libraries\n"
   ]
  },
  {
   "cell_type": "code",
   "execution_count": 1,
   "metadata": {
    "id": "GrHz37u6UWjX"
   },
   "outputs": [],
   "source": [
    "import numpy as np\n",
    "import pandas as pd"
   ]
  },
  {
   "cell_type": "markdown",
   "metadata": {
    "id": "1K5-rLilRl9z"
   },
   "source": [
    "# Parced data: feature + target"
   ]
  },
  {
   "cell_type": "code",
   "execution_count": 6,
   "metadata": {
    "id": "aGg_fF87CMfa"
   },
   "outputs": [],
   "source": [
    "ssc_v = \"ssc_conv/{}_ssc.txt\"\n",
    "\n",
    "\n",
    "adj_m = \"feature/adj/{}_adj.txt\"\n",
    "node_m = \"feature/nodes/{}_node.txt\"\n",
    "vert_m = \"feature/vertex/{}_vertex_count.txt\"\n",
    "\n",
    "count_file = \"feature/counter_all.txt\""
   ]
  },
  {
   "cell_type": "markdown",
   "metadata": {},
   "source": [
    "Open all the trash\n"
   ]
  },
  {
   "cell_type": "code",
   "execution_count": 3,
   "metadata": {
    "id": "rCnywQI4mBBf"
   },
   "outputs": [
    {
     "data": {
      "text/plain": [
       "21"
      ]
     },
     "execution_count": 3,
     "metadata": {},
     "output_type": "execute_result"
    }
   ],
   "source": [
    "with open(count_file, 'r') as f:\n",
    "    counter = f.read()\n",
    "counter = counter.replace('\\n', ' ')\n",
    "counter = np.array([float(x) for x in counter.split()])\n",
    "counter = counter.astype(np.int64)\n",
    "len(counter)"
   ]
  },
  {
   "cell_type": "code",
   "execution_count": null,
   "metadata": {},
   "outputs": [
    {
     "name": "stdout",
     "output_type": "stream",
     "text": [
      "5066\n",
      "5069\n",
      "5072\n",
      "5075\n"
     ]
    }
   ],
   "source": [
    "feature = []\n",
    "feature_adj = []\n",
    "feature_node = []\n",
    "target = []\n",
    "noway = []\n",
    "\n",
    "size = 1000\n",
    "\n",
    "for j in range (0, 3259): #len(counter)):\n",
    "  i = counter[j]\n",
    "  print(i)\n",
    "\n",
    "  try:\n",
    "    ssc = pd.read_csv(ssc_v.format(i))\n",
    "    stress = ssc['stress [MPa]'].to_numpy()\n",
    "\n",
    "    adj = np.loadtxt(adj_m.format(i))\n",
    "    vert = np.loadtxt(vert_m.format(i))\n",
    "\n",
    "    #node = np.loadtxt(node_m.format(i), delimiter=']')\n",
    "    with open(node_m.format(i), 'r') as f:\n",
    "        node = f.read()\n",
    "    node = node.replace('[', '').replace(']', '').replace('\\n', ' ')\n",
    "    node = np.array([float(x) for x in node.split()]).reshape(-1, 3)\n",
    "\n",
    "\n",
    "    #print(np.shape(adj))\n",
    "    if len(adj)<=size:\n",
    "      pads = size - len(adj)\n",
    "      adj = np.pad(adj, ((0, pads), (0,pads)), mode = 'constant', constant_values = 0)\n",
    "    else:\n",
    "      adj = adj[:size, :size]\n",
    "\n",
    "    if len(node)<=size:\n",
    "      pads = size - len(node)\n",
    "      node = np.pad(node, ((0, pads), (0, 0)), mode = 'constant', constant_values = 0)\n",
    "      #print(np.shape(node))\n",
    "    else:\n",
    "      node = node[:size, :3]\n",
    "      #print(np.shape(node))\n",
    "\n",
    "    stress = np.concatenate((stress, np.zeros(size-len(stress))))\n",
    "    stress = [float(item) for item in stress]\n",
    "\n",
    "    #adj = np.concatenate((adj, np.zeros((adj.shape[0], adj.shape[1],1500-len(stress)))), axis = 2)\n",
    "    #node = np.concatenate((node, np.zeros(1500-len(stress)),3))\n",
    "    \n",
    "    \n",
    "    #print(type(stress))\n",
    "    #print(vert)\n",
    "\n",
    "    feature_adj.append(adj)\n",
    "    feature_node.append(node)\n",
    "    feature.append(adj)\n",
    "    target.append(stress)\n",
    "\n",
    "  except Exception as e:\n",
    "    print(i, '  error!')\n",
    "    noway.append(i)\n",
    "\n",
    "\n",
    "\n",
    "\n"
   ]
  },
  {
   "cell_type": "markdown",
   "metadata": {},
   "source": [
    "DNN"
   ]
  },
  {
   "cell_type": "code",
   "execution_count": null,
   "metadata": {},
   "outputs": [
    {
     "name": "stderr",
     "output_type": "stream",
     "text": [
      "2025-02-12 17:44:50.920205: I tensorflow/core/platform/cpu_feature_guard.cc:182] This TensorFlow binary is optimized to use available CPU instructions in performance-critical operations.\n",
      "To enable the following instructions: SSE4.1 SSE4.2 AVX AVX2 FMA, in other operations, rebuild TensorFlow with the appropriate compiler flags.\n"
     ]
    },
    {
     "ename": "",
     "evalue": "",
     "output_type": "error",
     "traceback": [
      "\u001b[1;31mThe Kernel crashed while executing code in the current cell or a previous cell. \n",
      "\u001b[1;31mPlease review the code in the cell(s) to identify a possible cause of the failure. \n",
      "\u001b[1;31mClick <a href='https://aka.ms/vscodeJupyterKernelCrash'>here</a> for more info. \n",
      "\u001b[1;31mView Jupyter <a href='command:jupyter.viewOutput'>log</a> for further details."
     ]
    }
   ],
   "source": [
    "import tensorflow as tf\n",
    "from tensorflow.keras import datasets, layers, models\n",
    "from tensorflow.keras import Sequential\n",
    "from tensorflow.keras.layers import Dense\n",
    "from sklearn.model_selection import train_test_split"
   ]
  },
  {
   "cell_type": "code",
   "execution_count": null,
   "metadata": {},
   "outputs": [],
   "source": [
    "train_f = tf.constant(feature)\n",
    "train_t = tf.constant(target)"
   ]
  },
  {
   "cell_type": "code",
   "execution_count": null,
   "metadata": {},
   "outputs": [],
   "source": [
    "#train_f, test_f, train_t, test_t = train_test_split(feature, target, test_size=0.1, random_state=123)"
   ]
  },
  {
   "cell_type": "code",
   "execution_count": null,
   "metadata": {},

"source": [
    "model = Sequential()\n",
    "model.add(Dense(128, activation='relu', kernel_initializer='he_normal'))\n",
    "model.add(Dense(72, activation='relu', kernel_initializer='he_normal'))\n",
    "model.add(Dense(64, activation='relu', kernel_initializer='he_normal'))\n",
    "model.add(Dense(32, activation='relu', kernel_initializer='he_normal'))\n",
    "#model.add(Dense(24, activation='relu', kernel_initializer='he_normal'))\n",
    "model.add(Dense(1, activation='linear',  kernel_initializer='he_normal'))\n",
    "model.compile(optimizer='adam', loss='mse', metrics=['mae'])\n",
    "model.fit(train_f, train_t, epochs=12, batch_size=20, verbose=1) \n",
    "model.summary()"
   ]
  },
  {
   "cell_type": "code",
   "execution_count": 8,
   "metadata": {},
  
     "execution_count": 8,
     "metadata": {},
     "output_type": "execute_result"
    }
   ],
   "source": [
    "train_t[178][:60]"
   ]
  },
  {
   "cell_type": "code",
   "execution_count": 11,
   "metadata": {},
   "outputs": [
    {
     "name": "stdout",
     "output_type": "stream",
     "text": [
      "47/47 [==============================] - 0s 5ms/step\n"
     ]
    },
    {
     "data": {
      "text/plain": [
       "numpy.ndarray"
      ]
     },
     "execution_count": 11,
     "metadata": {},
     "output_type": "execute_result"
    }
   ],
   "source": [
    "pred = model.predict(train_f[121])\n",
    "#pred = ','.join(map(str, pred))\n",
    "#pred = pred.replace('[', '').replace(']', '')\n",
    "type(pred)"
   ]
  },
  {
   "cell_type": "code",
   "execution_count": null,
   "metadata": {},
   "outputs": [],
   "source": [
    "import matplotlib.pyplot as plt"
   ]
  },
  {
   "cell_type": "code",
   "execution_count": null,
   "metadata": {},
   "outputs": [
    {
     "name": "stdout",
     "output_type": "stream",
     "text": [
      "47/47 [==============================] - 0s 4ms/step\n"
     ]
    },
    {
     "ename": "FileNotFoundError",
     "evalue": "[Errno 2] No such file or directory",
     "output_type": "error",
     "traceback": [
      "\u001b[0;31m---------------------------------------------------------------------------\u001b[0m",
      "\u001b[0;31mFileNotFoundError\u001b[0m                         Traceback (most recent call last)",
      "Cell \u001b[0;32mIn[44], line 15\u001b[0m\n\u001b[1;32m     12\u001b[0m plt\u001b[38;5;241m.\u001b[39mxlabel(\u001b[38;5;124m'\u001b[39m\u001b[38;5;124mstrain, [\u001b[39m\u001b[38;5;124m%\u001b[39m\u001b[38;5;124m]\u001b[39m\u001b[38;5;124m'\u001b[39m, fontsize \u001b[38;5;241m=\u001b[39m \u001b[38;5;241m15\u001b[39m)\n\u001b[1;32m     13\u001b[0m plt\u001b[38;5;241m.\u001b[39mylabel(\u001b[38;5;124m'\u001b[39m\u001b[38;5;124mstress, [MPa]\u001b[39m\u001b[38;5;124m'\u001b[39m, fontsize \u001b[38;5;241m=\u001b[39m \u001b[38;5;241m15\u001b[39m)\n\u001b[0;32m---> 15\u001b[0m \u001b[43mplt\u001b[49m\u001b[38;5;241;43m.\u001b[39;49m\u001b[43msavefig\u001b[49m\u001b[43m(\u001b[49m\u001b[38;5;124;43m'\u001b[39;49m\u001b[38;5;124;43mfig8.png\u001b[39;49m\u001b[38;5;124;43m'\u001b[39;49m\u001b[43m,\u001b[49m\u001b[43m \u001b[49m\u001b[43mdpi\u001b[49m\u001b[43m \u001b[49m\u001b[38;5;241;43m=\u001b[39;49m\u001b[43m \u001b[49m\u001b[38;5;241;43m600\u001b[39;49m\u001b[43m)\u001b[49m\n",
      "File \u001b[0;32m/opt/anaconda3/envs/tf/lib/python3.11/site-packages/matplotlib/pyplot.py:1243\u001b[0m, in \u001b[0;36msavefig\u001b[0;34m(*args, **kwargs)\u001b[0m\n\u001b[1;32m   1240\u001b[0m fig \u001b[38;5;241m=\u001b[39m gcf()\n\u001b[1;32m   1241\u001b[0m \u001b[38;5;66;03m# savefig default implementation has no return, so mypy is unhappy\u001b[39;00m\n\u001b[1;32m   1242\u001b[0m \u001b[38;5;66;03m# presumably this is here because subclasses can return?\u001b[39;00m\n\u001b[0;32m-> 1243\u001b[0m res \u001b[38;5;241m=\u001b[39m \u001b[43mfig\u001b[49m\u001b[38;5;241;43m.\u001b[39;49m\u001b[43msavefig\u001b[49m\u001b[43m(\u001b[49m\u001b[38;5;241;43m*\u001b[39;49m\u001b[43margs\u001b[49m\u001b[43m,\u001b[49m\u001b[43m \u001b[49m\u001b[38;5;241;43m*\u001b[39;49m\u001b[38;5;241;43m*\u001b[39;49m\u001b[43mkwargs\u001b[49m\u001b[43m)\u001b[49m  \u001b[38;5;66;03m# type: ignore[func-returns-value]\u001b[39;00m\n\u001b[1;32m   1244\u001b[0m fig\u001b[38;5;241m.\u001b[39mcanvas\u001b[38;5;241m.\u001b[39mdraw_idle()  \u001b[38;5;66;03m# Need this if 'transparent=True', to reset colors.\u001b[39;00m\n\u001b[1;32m   1245\u001b[0m \u001b[38;5;28;01mreturn\u001b[39;00m res\n",
      "File \u001b[0;32m/opt/anaconda3/envs/tf/lib/python3.11/site-packages/matplotlib/figure.py:3490\u001b[0m, in \u001b[0;36mFigure.savefig\u001b[0;34m(self, fname, transparent, **kwargs)\u001b[0m\n\u001b[1;32m   3488\u001b[0m     \u001b[38;5;28;01mfor\u001b[39;00m ax \u001b[38;5;129;01min\u001b[39;00m \u001b[38;5;28mself\u001b[39m\u001b[38;5;241m.\u001b[39maxes:\n\u001b[1;32m   3489\u001b[0m         _recursively_make_axes_transparent(stack, ax)\n\u001b[0;32m-> 3490\u001b[0m \u001b[38;5;28;43mself\u001b[39;49m\u001b[38;5;241;43m.\u001b[39;49m\u001b[43mcanvas\u001b[49m\u001b[38;5;241;43m.\u001b[39;49m\u001b[43mprint_figure\u001b[49m\u001b[43m(\u001b[49m\u001b[43mfname\u001b[49m\u001b[43m,\u001b[49m\u001b[43m \u001b[49m\u001b[38;5;241;43m*\u001b[39;49m\u001b[38;5;241;43m*\u001b[39;49m\u001b[43mkwargs\u001b[49m\u001b[43m)\u001b[49m\n",
      "File \u001b[0;32m/opt/anaconda3/envs/tf/lib/python3.11/site-packages/matplotlib/backend_bases.py:2184\u001b[0m, in \u001b[0;36mFigureCanvasBase.print_figure\u001b[0;34m(self, filename, dpi, facecolor, edgecolor, orientation, format, bbox_inches, pad_inches, bbox_extra_artists, backend, **kwargs)\u001b[0m\n\u001b[1;32m   2180\u001b[0m \u001b[38;5;28;01mtry\u001b[39;00m:\n\u001b[1;32m   2181\u001b[0m     \u001b[38;5;66;03m# _get_renderer may change the figure dpi (as vector formats\u001b[39;00m\n\u001b[1;32m   2182\u001b[0m     \u001b[38;5;66;03m# force the figure dpi to 72), so we need to set it again here.\u001b[39;00m\n\u001b[1;32m   2183\u001b[0m     \u001b[38;5;28;01mwith\u001b[39;00m cbook\u001b[38;5;241m.\u001b[39m_setattr_cm(\u001b[38;5;28mself\u001b[39m\u001b[38;5;241m.\u001b[39mfigure, dpi\u001b[38;5;241m=\u001b[39mdpi):\n\u001b[0;32m-> 2184\u001b[0m         result \u001b[38;5;241m=\u001b[39m \u001b[43mprint_method\u001b[49m\u001b[43m(\u001b[49m\n\u001b[1;32m   2185\u001b[0m \u001b[43m            \u001b[49m\u001b[43mfilename\u001b[49m\u001b[43m,\u001b[49m\n\u001b[1;32m   2186\u001b[0m \u001b[43m            \u001b[49m\u001b[43mfacecolor\u001b[49m\u001b[38;5;241;43m=\u001b[39;49m\u001b[43mfacecolor\u001b[49m\u001b[43m,\u001b[49m\n\u001b[1;32m   2187\u001b[0m \u001b[43m            \u001b[49m\u001b[43medgecolor\u001b[49m\u001b[38;5;241;43m=\u001b[39;49m\u001b[43medgecolor\u001b[49m\u001b[43m,\u001b[49m\n\u001b[1;32m   2188\u001b[0m \u001b[43m            \u001b[49m\u001b[43morientation\u001b[49m\u001b[38;5;241;43m=\u001b[39;49m\u001b[43morientation\u001b[49m\u001b[43m,\u001b[49m\n\u001b[1;32m   2189\u001b[0m \u001b[43m            \u001b[49m\u001b[43mbbox_inches_restore\u001b[49m\u001b[38;5;241;43m=\u001b[39;49m\u001b[43m_bbox_inches_restore\u001b[49m\u001b[43m,\u001b[49m\n\u001b[1;32m   2190\u001b[0m \u001b[43m            \u001b[49m\u001b[38;5;241;43m*\u001b[39;49m\u001b[38;5;241;43m*\u001b[39;49m\u001b[43mkwargs\u001b[49m\u001b[43m)\u001b[49m\n\u001b[1;32m   2191\u001b[0m \u001b[38;5;28;01mfinally\u001b[39;00m:\n\u001b[1;32m   2192\u001b[0m     \u001b[38;5;28;01mif\u001b[39;00m bbox_inches \u001b[38;5;129;01mand\u001b[39;00m restore_bbox:\n",
      "File \u001b[0;32m/opt/anaconda3/envs/tf/lib/python3.11/site-packages/matplotlib/backend_bases.py:2040\u001b[0m, in \u001b[0;36mFigureCanvasBase._switch_canvas_and_return_print_method.<locals>.<lambda>\u001b[0;34m(*args, **kwargs)\u001b[0m\n\u001b[1;32m   2036\u001b[0m     optional_kws \u001b[38;5;241m=\u001b[39m {  \u001b[38;5;66;03m# Passed by print_figure for other renderers.\u001b[39;00m\n\u001b[1;32m   2037\u001b[0m         \u001b[38;5;124m\"\u001b[39m\u001b[38;5;124mdpi\u001b[39m\u001b[38;5;124m\"\u001b[39m, \u001b[38;5;124m\"\u001b[39m\u001b[38;5;124mfacecolor\u001b[39m\u001b[38;5;124m\"\u001b[39m, \u001b[38;5;124m\"\u001b[39m\u001b[38;5;124medgecolor\u001b[39m\u001b[38;5;124m\"\u001b[39m, \u001b[38;5;124m\"\u001b[39m\u001b[38;5;124morientation\u001b[39m\u001b[38;5;124m\"\u001b[39m,\n\u001b[1;32m   2038\u001b[0m         \u001b[38;5;124m\"\u001b[39m\u001b[38;5;124mbbox_inches_restore\u001b[39m\u001b[38;5;124m\"\u001b[39m}\n\u001b[1;32m   2039\u001b[0m     skip \u001b[38;5;241m=\u001b[39m optional_kws \u001b[38;5;241m-\u001b[39m {\u001b[38;5;241m*\u001b[39minspect\u001b[38;5;241m.\u001b[39msignature(meth)\u001b[38;5;241m.\u001b[39mparameters}\n\u001b[0;32m-> 2040\u001b[0m     print_method \u001b[38;5;241m=\u001b[39m functools\u001b[38;5;241m.\u001b[39mwraps(meth)(\u001b[38;5;28;01mlambda\u001b[39;00m \u001b[38;5;241m*\u001b[39margs, \u001b[38;5;241m*\u001b[39m\u001b[38;5;241m*\u001b[39mkwargs: \u001b[43mmeth\u001b[49m\u001b[43m(\u001b[49m\n\u001b[1;32m   2041\u001b[0m \u001b[43m        \u001b[49m\u001b[38;5;241;43m*\u001b[39;49m\u001b[43margs\u001b[49m\u001b[43m,\u001b[49m\u001b[43m \u001b[49m\u001b[38;5;241;43m*\u001b[39;49m\u001b[38;5;241;43m*\u001b[39;49m\u001b[43m{\u001b[49m\u001b[43mk\u001b[49m\u001b[43m:\u001b[49m\u001b[43m \u001b[49m\u001b[43mv\u001b[49m\u001b[43m \u001b[49m\u001b[38;5;28;43;01mfor\u001b[39;49;00m\u001b[43m \u001b[49m\u001b[43mk\u001b[49m\u001b[43m,\u001b[49m\u001b[43m \u001b[49m\u001b[43mv\u001b[49m\u001b[43m \u001b[49m\u001b[38;5;129;43;01min\u001b[39;49;00m\u001b[43m \u001b[49m\u001b[43mkwargs\u001b[49m\u001b[38;5;241;43m.\u001b[39;49m\u001b[43mitems\u001b[49m\u001b[43m(\u001b[49m\u001b[43m)\u001b[49m\u001b[43m \u001b[49m\u001b[38;5;28;43;01mif\u001b[39;49;00m\u001b[43m \u001b[49m\u001b[43mk\u001b[49m\u001b[43m \u001b[49m\u001b[38;5;129;43;01mnot\u001b[39;49;00m\u001b[43m \u001b[49m\u001b[38;5;129;43;01min\u001b[39;49;00m\u001b[43m \u001b[49m\u001b[43mskip\u001b[49m\u001b[43m}\u001b[49m\u001b[43m)\u001b[49m)\n\u001b[1;32m   2042\u001b[0m \u001b[38;5;28;01melse\u001b[39;00m:  \u001b[38;5;66;03m# Let third-parties do as they see fit.\u001b[39;00m\n\u001b[1;32m   2043\u001b[0m     print_method \u001b[38;5;241m=\u001b[39m meth\n",
      "File \u001b[0;32m/opt/anaconda3/envs/tf/lib/python3.11/site-packages/matplotlib/backends/backend_agg.py:481\u001b[0m, in \u001b[0;36mFigureCanvasAgg.print_png\u001b[0;34m(self, filename_or_obj, metadata, pil_kwargs)\u001b[0m\n\u001b[1;32m    434\u001b[0m \u001b[38;5;28;01mdef\u001b[39;00m \u001b[38;5;21mprint_png\u001b[39m(\u001b[38;5;28mself\u001b[39m, filename_or_obj, \u001b[38;5;241m*\u001b[39m, metadata\u001b[38;5;241m=\u001b[39m\u001b[38;5;28;01mNone\u001b[39;00m, pil_kwargs\u001b[38;5;241m=\u001b[39m\u001b[38;5;28;01mNone\u001b[39;00m):\n\u001b[1;32m    435\u001b[0m \u001b[38;5;250m    \u001b[39m\u001b[38;5;124;03m\"\"\"\u001b[39;00m\n\u001b[1;32m    436\u001b[0m \u001b[38;5;124;03m    Write the figure to a PNG file.\u001b[39;00m\n\u001b[1;32m    437\u001b[0m \n\u001b[0;32m   (...)\u001b[0m\n\u001b[1;32m    479\u001b[0m \u001b[38;5;124;03m        *metadata*, including the default 'Software' key.\u001b[39;00m\n\u001b[1;32m    480\u001b[0m \u001b[38;5;124;03m    \"\"\"\u001b[39;00m\n\u001b[0;32m--> 481\u001b[0m     \u001b[38;5;28;43mself\u001b[39;49m\u001b[38;5;241;43m.\u001b[39;49m\u001b[43m_print_pil\u001b[49m\u001b[43m(\u001b[49m\u001b[43mfilename_or_obj\u001b[49m\u001b[43m,\u001b[49m\u001b[43m \u001b[49m\u001b[38;5;124;43m\"\u001b[39;49m\u001b[38;5;124;43mpng\u001b[39;49m\u001b[38;5;124;43m\"\u001b[39;49m\u001b[43m,\u001b[49m\u001b[43m \u001b[49m\u001b[43mpil_kwargs\u001b[49m\u001b[43m,\u001b[49m\u001b[43m \u001b[49m\u001b[43mmetadata\u001b[49m\u001b[43m)\u001b[49m\n",
      "File \u001b[0;32m/opt/anaconda3/envs/tf/lib/python3.11/site-packages/matplotlib/backends/backend_agg.py:430\u001b[0m, in \u001b[0;36mFigureCanvasAgg._print_pil\u001b[0;34m(self, filename_or_obj, fmt, pil_kwargs, metadata)\u001b[0m\n\u001b[1;32m    425\u001b[0m \u001b[38;5;250m\u001b[39m\u001b[38;5;124;03m\"\"\"\u001b[39;00m\n\u001b[1;32m    426\u001b[0m \u001b[38;5;124;03mDraw the canvas, then save it using `.image.imsave` (to which\u001b[39;00m\n\u001b[1;32m    427\u001b[0m \u001b[38;5;124;03m*pil_kwargs* and *metadata* are forwarded).\u001b[39;00m\n\u001b[1;32m    428\u001b[0m \u001b[38;5;124;03m\"\"\"\u001b[39;00m\n\u001b[1;32m    429\u001b[0m FigureCanvasAgg\u001b[38;5;241m.\u001b[39mdraw(\u001b[38;5;28mself\u001b[39m)\n\u001b[0;32m--> 430\u001b[0m \u001b[43mmpl\u001b[49m\u001b[38;5;241;43m.\u001b[39;49m\u001b[43mimage\u001b[49m\u001b[38;5;241;43m.\u001b[39;49m\u001b[43mimsave\u001b[49m\u001b[43m(\u001b[49m\n\u001b[1;32m    431\u001b[0m \u001b[43m    \u001b[49m\u001b[43mfilename_or_obj\u001b[49m\u001b[43m,\u001b[49m\u001b[43m \u001b[49m\u001b[38;5;28;43mself\u001b[39;49m\u001b[38;5;241;43m.\u001b[39;49m\u001b[43mbuffer_rgba\u001b[49m\u001b[43m(\u001b[49m\u001b[43m)\u001b[49m\u001b[43m,\u001b[49m\u001b[43m \u001b[49m\u001b[38;5;28;43mformat\u001b[39;49m\u001b[38;5;241;43m=\u001b[39;49m\u001b[43mfmt\u001b[49m\u001b[43m,\u001b[49m\u001b[43m \u001b[49m\u001b[43morigin\u001b[49m\u001b[38;5;241;43m=\u001b[39;49m\u001b[38;5;124;43m\"\u001b[39;49m\u001b[38;5;124;43mupper\u001b[39;49m\u001b[38;5;124;43m\"\u001b[39;49m\u001b[43m,\u001b[49m\n\u001b[1;32m    432\u001b[0m \u001b[43m    \u001b[49m\u001b[43mdpi\u001b[49m\u001b[38;5;241;43m=\u001b[39;49m\u001b[38;5;28;43mself\u001b[39;49m\u001b[38;5;241;43m.\u001b[39;49m\u001b[43mfigure\u001b[49m\u001b[38;5;241;43m.\u001b[39;49m\u001b[43mdpi\u001b[49m\u001b[43m,\u001b[49m\u001b[43m \u001b[49m\u001b[43mmetadata\u001b[49m\u001b[38;5;241;43m=\u001b[39;49m\u001b[43mmetadata\u001b[49m\u001b[43m,\u001b[49m\u001b[43m \u001b[49m\u001b[43mpil_kwargs\u001b[49m\u001b[38;5;241;43m=\u001b[39;49m\u001b[43mpil_kwargs\u001b[49m\u001b[43m)\u001b[49m\n",
      "File \u001b[0;32m/opt/anaconda3/envs/tf/lib/python3.11/site-packages/matplotlib/image.py:1634\u001b[0m, in \u001b[0;36mimsave\u001b[0;34m(fname, arr, vmin, vmax, cmap, format, origin, dpi, metadata, pil_kwargs)\u001b[0m\n\u001b[1;32m   1632\u001b[0m pil_kwargs\u001b[38;5;241m.\u001b[39msetdefault(\u001b[38;5;124m\"\u001b[39m\u001b[38;5;124mformat\u001b[39m\u001b[38;5;124m\"\u001b[39m, \u001b[38;5;28mformat\u001b[39m)\n\u001b[1;32m   1633\u001b[0m pil_kwargs\u001b[38;5;241m.\u001b[39msetdefault(\u001b[38;5;124m\"\u001b[39m\u001b[38;5;124mdpi\u001b[39m\u001b[38;5;124m\"\u001b[39m, (dpi, dpi))\n\u001b[0;32m-> 1634\u001b[0m \u001b[43mimage\u001b[49m\u001b[38;5;241;43m.\u001b[39;49m\u001b[43msave\u001b[49m\u001b[43m(\u001b[49m\u001b[43mfname\u001b[49m\u001b[43m,\u001b[49m\u001b[43m \u001b[49m\u001b[38;5;241;43m*\u001b[39;49m\u001b[38;5;241;43m*\u001b[39;49m\u001b[43mpil_kwargs\u001b[49m\u001b[43m)\u001b[49m\n",
      "File \u001b[0;32m/opt/anaconda3/envs/tf/lib/python3.11/site-packages/PIL/Image.py:2553\u001b[0m, in \u001b[0;36mImage.save\u001b[0;34m(self, fp, format, **params)\u001b[0m\n\u001b[1;32m   2551\u001b[0m open_fp \u001b[38;5;241m=\u001b[39m \u001b[38;5;28;01mFalse\u001b[39;00m\n\u001b[1;32m   2552\u001b[0m \u001b[38;5;28;01mif\u001b[39;00m is_path(fp):\n\u001b[0;32m-> 2553\u001b[0m     filename \u001b[38;5;241m=\u001b[39m \u001b[43mos\u001b[49m\u001b[38;5;241;43m.\u001b[39;49m\u001b[43mpath\u001b[49m\u001b[38;5;241;43m.\u001b[39;49m\u001b[43mrealpath\u001b[49m\u001b[43m(\u001b[49m\u001b[43mos\u001b[49m\u001b[38;5;241;43m.\u001b[39;49m\u001b[43mfspath\u001b[49m\u001b[43m(\u001b[49m\u001b[43mfp\u001b[49m\u001b[43m)\u001b[49m\u001b[43m)\u001b[49m\n\u001b[1;32m   2554\u001b[0m     open_fp \u001b[38;5;241m=\u001b[39m \u001b[38;5;28;01mTrue\u001b[39;00m\n\u001b[1;32m   2555\u001b[0m \u001b[38;5;28;01melif\u001b[39;00m fp \u001b[38;5;241m==\u001b[39m sys\u001b[38;5;241m.\u001b[39mstdout:\n",
      "File \u001b[0;32m<frozen posixpath>:417\u001b[0m, in \u001b[0;36mrealpath\u001b[0;34m(filename, strict)\u001b[0m\n",
      "File \u001b[0;32m<frozen posixpath>:404\u001b[0m, in \u001b[0;36mabspath\u001b[0;34m(path)\u001b[0m\n",
      "\u001b[0;31mFileNotFoundError\u001b[0m: [Errno 2] No such file or directory"
     ]
    },
    {
     "data": {
      "image/png": "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",
      "text/plain": [
       "<Figure size 640x480 with 1 Axes>"
      ]
     },
     "metadata": {},
     "output_type": "display_data"
    }
   ],
   "source": [
    "strain = []\n",
    "for i_x in range(0, 7500, 5):\n",
    "    i_x = i_x/100\n",
    "    #print(i_x)\n",
    "    strain.append(i_x)\n",
    "\n",
    "s = 122\n",
    "\n",
    "pred = model.predict(train_f[s])\n",
    "plt.plot(strain, pred, 'X')\n",
    "plt.plot(strain, train_t[s])\n",
    "plt.xlabel('strain, [%]', fontsize = 15)\n",
    "plt.ylabel('stress, [MPa]', fontsize = 15)\n",
    "\n",
    "plt.savefig('fig8.png', dpi = 600)"
   ]
  },
  {
   "cell_type": "markdown",
   "metadata": {
    "id": "kwpTEZXNDXTO"
   },
  
   
    "version": 3
   },
   "file_extension": ".py",
   "mimetype": "text/x-python",
   "name": "python",
   "nbconvert_exporter": "python",
   "pygments_lexer": "ipython3",
   "version": "3.11.5"
  }
 },
 "nbformat": 4,
 "nbformat_minor": 0
}
