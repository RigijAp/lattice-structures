{
 "cells": [
  {
   "cell_type": "markdown",
   "metadata": {
    "id": "YcYypbLg4sN5"
   },
   "source": [
    "# Libraries\n"
   ]
  },
  {
   "cell_type": "code",
   "execution_count": 1,
   "metadata": {
    "id": "GrHz37u6UWjX"
   },
   "outputs": [],
   "source": [
    "import numpy as np\n",
    "import pandas as pd"
   ]
  },
  {
   "cell_type": "markdown",
   "metadata": {
    "id": "1K5-rLilRl9z"
   },
   "source": [
    "# Parced data: feature + target"
   ]
  },
  {
   "cell_type": "code",
   "execution_count": null,
   "metadata": {
    "id": "aGg_fF87CMfa"
   },
   "outputs": [],
   "source": [
    "ssc_v = \"ssc_conv/{}_ssc.txt\"\n",
    "\n",
    "adj_m = \"feature/adj/{}_adj.txt\"\n",
    "node_m = \"feature/nodes/{}_node.txt\"\n",
    "vert_m = \"feature/vertex/{}_vertex_count.txt\"\n",
    "\n",
    "count_file = \"feature/counter_all.txt\""
   ]
  },
  {
   "cell_type": "markdown",
   "metadata": {},
   "source": [
    "Open all the trash\n"
   ]
  },
  {
   "cell_type": "code",
   "execution_count": null,
   "metadata": {
    "id": "rCnywQI4mBBf"
   },
   "outputs": [],
   "source": [
    "with open(count_file, 'r') as f:\n",
    "    counter = f.read()\n",
    "counter = counter.replace('\\n', ' ')\n",
    "counter = np.array([float(x) for x in counter.split()])\n",
    "counter = counter.astype(np.int64)\n",
    "len(counter)"
   ]
  },
  {
   "cell_type": "code",
   "execution_count": null,
   "metadata": {},
   "outputs": [],
   "source": [
    "feature = []\n",
    "feature_adj = []\n",
    "feature_node = []\n",
    "target = []\n",
    "zaraza = []\n",
    "\n",
    "size = 1000\n",
    "\n",
    "for j in range (0, 3259): #len(counter)):\n",
    "  i = counter[j]\n",
    "  print(i)\n",
    "\n",
    "  try:\n",
    "    ssc = pd.read_csv(ssc_v.format(i))\n",
    "    stress = ssc['stress [MPa]'].to_numpy()\n",
    "\n",
    "    adj = np.loadtxt(adj_m.format(i))\n",
    "    vert = np.loadtxt(vert_m.format(i))\n",
    "\n",
    "    #node = np.loadtxt(node_m.format(i), delimiter=']')\n",
    "    with open(node_m.format(i), 'r') as f:\n",
    "        node = f.read()\n",
    "    node = node.replace('[', '').replace(']', '').replace('\\n', ' ')\n",
    "    node = np.array([float(x) for x in node.split()]).reshape(-1, 3)\n",
    "\n",
    "\n",
    "    #print(np.shape(adj))\n",
    "    if len(adj)<=size:\n",
    "      pads = size - len(adj)\n",
    "      adj = np.pad(adj, ((0, pads), (0,pads)), mode = 'constant', constant_values = 0)\n",
    "    else:\n",
    "      adj = adj[:size, :size]\n",
    "\n",
    "    if len(node)<=size:\n",
    "      pads = size - len(node)\n",
    "      node = np.pad(node, ((0, pads), (0, 0)), mode = 'constant', constant_values = 0)\n",
    "      #print(np.shape(node))\n",
    "    else:\n",
    "      node = node[:size, :3]\n",
    "      #print(np.shape(node))\n",
    "\n",
    "    stress = np.concatenate((stress, np.zeros(size-len(stress))))\n",
    "    stress = [float(item) for item in stress]\n",
    "\n",
    "    feature_adj.append(adj)\n",
    "    feature_node.append(node)\n",
    "    feature.append(adj)\n",
    "    target.append(stress)\n",
    "\n",
    "  except Exception as e:\n",
    "    print(i, 'zaraza')\n",
    "    zaraza.append(i)"
   ]
  },
  {
   "cell_type": "markdown",
   "metadata": {},
   "source": [
    "DNN"
   ]
  },
  {
   "cell_type": "code",
   "execution_count": null,
   "metadata": {},
   "outputs": [],
   "source": [
    "import tensorflow as tf\n",
    "from tensorflow.keras import datasets, layers, models\n",
    "from tensorflow.keras import Sequential\n",
    "from tensorflow.keras.layers import Dense\n",
    "from sklearn.model_selection import train_test_split"
   ]
  },
  {
   "cell_type": "code",
   "execution_count": null,
   "metadata": {},
   "outputs": [],
   "source": [
    "X_train_val, X_test, y_train_val, y_test = train_test_split(feature, target, test_size=0.05, random_state=42)\n",
    "train_f, val_f, train_t, val_t = train_test_split(feature, target, test_size=0.1579, random_state=42)"
   ]
  },
  {
   "cell_type": "code",
   "execution_count": null,
   "metadata": {},
   "outputs": [],
   "source": [
    "model = Sequential()\n",
    "model.add(Dense(128, activation='relu', kernel_initializer='he_normal,  kernel_regularizer=l2(0.01)'))\n",
    "model.add(Dense(72, activation='relu', kernel_initializer='he_normal,  kernel_regularizer=l2(0.01)'))\n",
    "model.add(Dense(64, activation='relu', kernel_initializer='he_normal,  kernel_regularizer=l2(0.01)'))\n",
    "model.add(Dense(32, activation='relu', kernel_initializer='he_normal,  kernel_regularizer=l2(0.01)'))\n",
    "#model.add(Dense(24, activation='relu', kernel_initializer='he_normal,  kernel_regularizer=l2(0.01)'))\n",
    "model.add(Dense(1, activation='linear',  kernel_initializer='he_normal,  kernel_regularizer=l2(0.01)'))\n",
    "model.compile(optimizer='adam', loss='mse', metrics=['mae'])\n",
    "model.fit(train_f, train_t,validation_data=(val_f, val_t), epochs=300, batch_size=50, verbose=1) \n",
    "model.summary()"
   ]
  },
  {
   "cell_type": "code",
   "execution_count": null,
   "metadata": {},
   "outputs": [],
   "source": [
    "import matplotlib.pyplot as plt"
   ]
  },
  {
   "cell_type": "code",
   "execution_count": null,
   "metadata": {},
   "outputs": [],
   "source": [
    "strain = []\n",
    "for i_x in range(0, 7500, 5):\n",
    "    i_x = i_x/100\n",
    "    #print(i_x)\n",
    "    strain.append(i_x)\n",
    "\n",
    "s = 122\n",
    "\n",
    "pred = model.predict(X_test[s])\n",
    "plt.plot(strain, pred, 'X')\n",
    "plt.plot(strain, y_test[s])\n",
    "plt.xlabel('strain, [%]', fontsize = 15)\n",
    "plt.ylabel('stress, [MPa]', fontsize = 15)\n"
   ]
  }
 ],
 "metadata": {
  "colab": {
   "authorship_tag": "ABX9TyNpc1XKR9fDUdwhivPsmlqN",
   "collapsed_sections": [
    "YcYypbLg4sN5"
   ],
   "provenance": []
  },
  "kernelspec": {
   "display_name": "tf",
   "language": "python",
   "name": "python3"
  },
  "language_info": {
   "codemirror_mode": {
    "name": "ipython",
    "version": 3
   },
   "file_extension": ".py",
   "mimetype": "text/x-python",
   "name": "python",
   "nbconvert_exporter": "python",
   "pygments_lexer": "ipython3",
   "version": "3.11.5"
  }
 },
 "nbformat": 4,
 "nbformat_minor": 0
}
