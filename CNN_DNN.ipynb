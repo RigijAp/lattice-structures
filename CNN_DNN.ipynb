{
 "cells": [
  {
   "cell_type": "code",
   "execution_count": 43,
   "id": "ba9c0190-f287-4a21-b655-1f66a3815ceb",
   "metadata": {},
   "outputs": [
    {
     "name": "stderr",
     "output_type": "stream",
     "text": [
      "3413.88s - pydevd: Sending message related to process being replaced timed-out after 5 seconds\n"
     ]
    },
    {
     "name": "stdout",
     "output_type": "stream",
     "text": [
      "Python 3.11.5\n"
     ]
    }
   ],
   "source": [
    "!python --version"
   ]
  },
  {
   "cell_type": "code",
   "execution_count": 44,
   "id": "2319d93c-8758-42cf-968d-74ade86f125a",
   "metadata": {},
   "outputs": [],
   "source": [
    "import pandas as pd\n",
    "import numpy as np\n",
    "import trimesh\n",
    "import networkx as nx"
   ]
  },
  {
   "cell_type": "code",
   "execution_count": 45,
   "id": "15c5b02b-413d-468c-9f3d-91901040db85",
   "metadata": {},
   "outputs": [],
   "source": [
    "#stl files id\n",
    "n1 = 1\n",
    "n2 = 50"
   ]
  },
  {
   "cell_type": "markdown",
   "id": "b4f68ba8-6cce-43ab-bbda-d9da94d39803",
   "metadata": {},
   "source": [
    "Reading .csv file"
   ]
  },
  {
   "cell_type": "code",
   "execution_count": 46,
   "id": "2da08ead-8d5c-4e2c-9642-3fdaeed4b14b",
   "metadata": {},
   "outputs": [
    {
     "data": {
      "text/html": [
       "<div>\n",
       "<style scoped>\n",
       "    .dataframe tbody tr th:only-of-type {\n",
       "        vertical-align: middle;\n",
       "    }\n",
       "\n",
       "    .dataframe tbody tr th {\n",
       "        vertical-align: top;\n",
       "    }\n",
       "\n",
       "    .dataframe thead th {\n",
       "        text-align: right;\n",
       "    }\n",
       "</style>\n",
       "<table border=\"1\" class=\"dataframe\">\n",
       "  <thead>\n",
       "    <tr style=\"text-align: right;\">\n",
       "      <th></th>\n",
       "      <th>id</th>\n",
       "      <th>density</th>\n",
       "      <th>young_modulus</th>\n",
       "      <th>poisson_ratio</th>\n",
       "      <th>shear_modulus</th>\n",
       "      <th>yield_stress</th>\n",
       "      <th>ultimate_stress</th>\n",
       "      <th>strain_stress_values</th>\n",
       "    </tr>\n",
       "  </thead>\n",
       "  <tbody>\n",
       "    <tr>\n",
       "      <th>0</th>\n",
       "      <td>128606</td>\n",
       "      <td>1175.949720</td>\n",
       "      <td>7.141057e+08</td>\n",
       "      <td>0.264721</td>\n",
       "      <td>4.772817e+08</td>\n",
       "      <td>2.529931e+07</td>\n",
       "      <td>2.709164e+07</td>\n",
       "      <td>[[0.0, 0.0], [0.1, 14.477105654130623], [0.2, ...</td>\n",
       "    </tr>\n",
       "    <tr>\n",
       "      <th>1</th>\n",
       "      <td>128609</td>\n",
       "      <td>879.303004</td>\n",
       "      <td>5.063934e+08</td>\n",
       "      <td>0.271033</td>\n",
       "      <td>4.959339e+08</td>\n",
       "      <td>3.208647e+07</td>\n",
       "      <td>3.561526e+07</td>\n",
       "      <td>[[0.0, 0.0], [0.1, 11.011819136893074], [0.2, ...</td>\n",
       "    </tr>\n",
       "    <tr>\n",
       "      <th>2</th>\n",
       "      <td>128610</td>\n",
       "      <td>902.743485</td>\n",
       "      <td>1.411052e+09</td>\n",
       "      <td>0.253248</td>\n",
       "      <td>5.414799e+08</td>\n",
       "      <td>1.820441e+07</td>\n",
       "      <td>2.493981e+07</td>\n",
       "      <td>[[0.0, 0.0], [0.1, 27.737353950665053], [0.2, ...</td>\n",
       "    </tr>\n",
       "    <tr>\n",
       "      <th>3</th>\n",
       "      <td>128615</td>\n",
       "      <td>1131.356417</td>\n",
       "      <td>6.882834e+08</td>\n",
       "      <td>0.206567</td>\n",
       "      <td>6.360147e+08</td>\n",
       "      <td>2.039317e+07</td>\n",
       "      <td>2.194723e+07</td>\n",
       "      <td>[[0.0, 0.0], [0.1, 11.885238927116848], [0.2, ...</td>\n",
       "    </tr>\n",
       "    <tr>\n",
       "      <th>4</th>\n",
       "      <td>128616</td>\n",
       "      <td>1152.571264</td>\n",
       "      <td>2.349322e+09</td>\n",
       "      <td>0.167839</td>\n",
       "      <td>5.214505e+08</td>\n",
       "      <td>3.872026e+07</td>\n",
       "      <td>4.511207e+07</td>\n",
       "      <td>[[0.0, 0.0], [0.1, 25.371301361034796], [0.2, ...</td>\n",
       "    </tr>\n",
       "    <tr>\n",
       "      <th>...</th>\n",
       "      <td>...</td>\n",
       "      <td>...</td>\n",
       "      <td>...</td>\n",
       "      <td>...</td>\n",
       "      <td>...</td>\n",
       "      <td>...</td>\n",
       "      <td>...</td>\n",
       "      <td>...</td>\n",
       "    </tr>\n",
       "    <tr>\n",
       "      <th>61761</th>\n",
       "      <td>18364</td>\n",
       "      <td>818.116707</td>\n",
       "      <td>5.814251e+08</td>\n",
       "      <td>0.346922</td>\n",
       "      <td>5.145059e+08</td>\n",
       "      <td>2.923939e+08</td>\n",
       "      <td>3.501199e+08</td>\n",
       "      <td>[[0.0, 0.0], [0.1, 19.519911059025688], [0.2, ...</td>\n",
       "    </tr>\n",
       "    <tr>\n",
       "      <th>61762</th>\n",
       "      <td>18365</td>\n",
       "      <td>660.745152</td>\n",
       "      <td>1.168510e+09</td>\n",
       "      <td>0.354228</td>\n",
       "      <td>4.184006e+08</td>\n",
       "      <td>4.151324e+08</td>\n",
       "      <td>6.013479e+08</td>\n",
       "      <td>[[0.0, 0.0], [0.1, 31.95827171615424], [0.2, 6...</td>\n",
       "    </tr>\n",
       "    <tr>\n",
       "      <th>61763</th>\n",
       "      <td>18366</td>\n",
       "      <td>711.182186</td>\n",
       "      <td>6.564377e+08</td>\n",
       "      <td>0.172712</td>\n",
       "      <td>9.807482e+07</td>\n",
       "      <td>2.463443e+08</td>\n",
       "      <td>3.270593e+08</td>\n",
       "      <td>[[0.0, 0.0], [0.1, 20.547887959418315], [0.2, ...</td>\n",
       "    </tr>\n",
       "    <tr>\n",
       "      <th>61764</th>\n",
       "      <td>18367</td>\n",
       "      <td>624.650313</td>\n",
       "      <td>8.486915e+08</td>\n",
       "      <td>0.230972</td>\n",
       "      <td>1.695812e+08</td>\n",
       "      <td>2.302253e+08</td>\n",
       "      <td>2.922557e+08</td>\n",
       "      <td>[[0.0, 0.0], [0.1, 20.95423153650639], [0.2, 4...</td>\n",
       "    </tr>\n",
       "    <tr>\n",
       "      <th>61765</th>\n",
       "      <td>18372</td>\n",
       "      <td>680.197538</td>\n",
       "      <td>4.691770e+08</td>\n",
       "      <td>0.288796</td>\n",
       "      <td>1.095500e+08</td>\n",
       "      <td>2.520031e+08</td>\n",
       "      <td>2.851790e+08</td>\n",
       "      <td>[[0.0, 0.0], [0.1, 16.820874375838226], [0.2, ...</td>\n",
       "    </tr>\n",
       "  </tbody>\n",
       "</table>\n",
       "<p>61766 rows × 8 columns</p>\n",
       "</div>"
      ],
      "text/plain": [
       "           id      density  young_modulus  poisson_ratio  shear_modulus  \\\n",
       "0      128606  1175.949720   7.141057e+08       0.264721   4.772817e+08   \n",
       "1      128609   879.303004   5.063934e+08       0.271033   4.959339e+08   \n",
       "2      128610   902.743485   1.411052e+09       0.253248   5.414799e+08   \n",
       "3      128615  1131.356417   6.882834e+08       0.206567   6.360147e+08   \n",
       "4      128616  1152.571264   2.349322e+09       0.167839   5.214505e+08   \n",
       "...       ...          ...            ...            ...            ...   \n",
       "61761   18364   818.116707   5.814251e+08       0.346922   5.145059e+08   \n",
       "61762   18365   660.745152   1.168510e+09       0.354228   4.184006e+08   \n",
       "61763   18366   711.182186   6.564377e+08       0.172712   9.807482e+07   \n",
       "61764   18367   624.650313   8.486915e+08       0.230972   1.695812e+08   \n",
       "61765   18372   680.197538   4.691770e+08       0.288796   1.095500e+08   \n",
       "\n",
       "       yield_stress  ultimate_stress  \\\n",
       "0      2.529931e+07     2.709164e+07   \n",
       "1      3.208647e+07     3.561526e+07   \n",
       "2      1.820441e+07     2.493981e+07   \n",
       "3      2.039317e+07     2.194723e+07   \n",
       "4      3.872026e+07     4.511207e+07   \n",
       "...             ...              ...   \n",
       "61761  2.923939e+08     3.501199e+08   \n",
       "61762  4.151324e+08     6.013479e+08   \n",
       "61763  2.463443e+08     3.270593e+08   \n",
       "61764  2.302253e+08     2.922557e+08   \n",
       "61765  2.520031e+08     2.851790e+08   \n",
       "\n",
       "                                    strain_stress_values  \n",
       "0      [[0.0, 0.0], [0.1, 14.477105654130623], [0.2, ...  \n",
       "1      [[0.0, 0.0], [0.1, 11.011819136893074], [0.2, ...  \n",
       "2      [[0.0, 0.0], [0.1, 27.737353950665053], [0.2, ...  \n",
       "3      [[0.0, 0.0], [0.1, 11.885238927116848], [0.2, ...  \n",
       "4      [[0.0, 0.0], [0.1, 25.371301361034796], [0.2, ...  \n",
       "...                                                  ...  \n",
       "61761  [[0.0, 0.0], [0.1, 19.519911059025688], [0.2, ...  \n",
       "61762  [[0.0, 0.0], [0.1, 31.95827171615424], [0.2, 6...  \n",
       "61763  [[0.0, 0.0], [0.1, 20.547887959418315], [0.2, ...  \n",
       "61764  [[0.0, 0.0], [0.1, 20.95423153650639], [0.2, 4...  \n",
       "61765  [[0.0, 0.0], [0.1, 16.820874375838226], [0.2, ...  \n",
       "\n",
       "[61766 rows x 8 columns]"
      ]
     },
     "execution_count": 46,
     "metadata": {},
     "output_type": "execute_result"
    }
   ],
   "source": [
    "df = pd.read_csv('prop.csv')\n",
    "df"
   ]
  },
  {
   "cell_type": "code",
   "execution_count": 47,
   "id": "5caf3bb0-5524-425a-92ea-f0be360514ea",
   "metadata": {},
   "outputs": [
    {
     "name": "stdout",
     "output_type": "stream",
     "text": [
      "<class 'pandas.core.frame.DataFrame'>\n",
      "RangeIndex: 61766 entries, 0 to 61765\n",
      "Data columns (total 8 columns):\n",
      " #   Column                Non-Null Count  Dtype  \n",
      "---  ------                --------------  -----  \n",
      " 0   id                    61766 non-null  int64  \n",
      " 1   density               61766 non-null  float64\n",
      " 2   young_modulus         61766 non-null  float64\n",
      " 3   poisson_ratio         61766 non-null  float64\n",
      " 4   shear_modulus         61766 non-null  float64\n",
      " 5   yield_stress          61766 non-null  float64\n",
      " 6   ultimate_stress       61766 non-null  float64\n",
      " 7   strain_stress_values  61766 non-null  object \n",
      "dtypes: float64(6), int64(1), object(1)\n",
      "memory usage: 3.8+ MB\n"
     ]
    }
   ],
   "source": [
    "df.info()"
   ]
  },
  {
   "cell_type": "markdown",
   "id": "93c3cdac-855f-4a82-8094-1c5de5d952bf",
   "metadata": {},
   "source": [
    "parcing of.stl, features and target"
   ]
  },
  {
   "cell_type": "code",
   "execution_count": 48,
   "id": "40d0c41d-4dbb-49fd-89d0-d291b13f0768",
   "metadata": {},
   "outputs": [],
   "source": [
    "n1 = 1\n",
    "n2 = 100#1501"
   ]
  },
  {
   "cell_type": "code",
   "execution_count": 49,
   "id": "7112255b-dd66-4057-869e-eab1ec44bf71",
   "metadata": {},
   "outputs": [],
   "source": [
    "feature = []\n",
    "target = []\n",
    "\n",
    "for n in range(n1, n2):\n",
    "    for i in range (1, len(df)):\n",
    "        if n == df['id'][i]:\n",
    "            k = i\n",
    "            #print(n)\n",
    "            stl_file = trimesh.load('{}.stl'.format(n))\n",
    "            \n",
    "            vertices_matrix = stl_file.vertices\n",
    "            \n",
    "            vertices_matrix_z = np.delete(vertices_matrix, 0, axis = 1)\n",
    "            vertices_matrix_z = np.delete(vertices_matrix_z, 0, axis = 1)\n",
    "\n",
    "            vertices_matrix_y = np.delete(vertices_matrix, 0, axis = 1)\n",
    "            vertices_matrix_y = np.delete(vertices_matrix_y, 1, axis = 1)\n",
    "            \n",
    "            vertices_matrix_x = np.delete(vertices_matrix, 1, axis = 1)\n",
    "            vertices_matrix_x = np.delete(vertices_matrix_x, 1, axis = 1)\n",
    "\n",
    "            vert_x = []\n",
    "            vert_y = []\n",
    "            vert_z = []\n",
    "\n",
    "            for j in range (1,len(vert_x)):\n",
    "                if (vertices_matrix_x[j]>0)&(vertices_matrix_y[j]>0)&(vertices_matrix_z[j]>0)&(vertices_matrix_x[j]<5)&(vertices_matrix_y[j]<5)&(vertices_matrix_z[j]<5):\n",
    "                    vert_x = np.append(vert_x, vertices_matrix_x[j])\n",
    "                    vert_y = np.append(vert_y, vertices_matrix_y[j])\n",
    "                    vert_z = np.append(vert_z, vertices_matrix_z[j])\n",
    "            \n",
    "            vert_x = np.resize(vert_x, (100,))\n",
    "            vert_y = np.resize(vert_y, (100,))\n",
    "            vert_z = np.resize(vert_z, (100,))\n",
    "            \n",
    "            feature_ = np.stack((vert_x, vert_y, vert_z), axis=1)\n",
    "            feature.append(feature_)\n",
    "            \n",
    "            s = df['strain_stress_values'][k]\n",
    "            s = s[1:-1]\n",
    "            s = s.replace('[', '').replace(']', '')\n",
    "            \n",
    "            matrix = np.fromstring(s, dtype=float, sep=',')\n",
    "            matrix = matrix.reshape(-1, 2)\n",
    "            matrix = np.delete(matrix, 0, axis=1)\n",
    "            matrix = np.append(matrix, np.zeros(100 - len(matrix)))\n",
    "          \n",
    "            target.append(matrix)\n",
    " "
   ]
  },
  {
   "cell_type": "markdown",
   "id": "ff071d12-6ec0-4f46-a88c-e9fd2315305e",
   "metadata": {},
   "source": []
  },
  {
   "cell_type": "markdown",
   "id": "7ea62079-8be1-45d3-bbf1-a1971963e548",
   "metadata": {},
   "source": [
    "DNN"
   ]
  },
  {
   "cell_type": "code",
   "execution_count": 50,
   "id": "d33c6e87-a800-451c-8d23-3f42dbf09e39",
   "metadata": {},
   "outputs": [],
   "source": [
    "import tensorflow as tf\n",
    "from tensorflow.keras import datasets, layers, models\n",
    "from tensorflow.keras import Sequential\n",
    "from tensorflow.keras.layers import Dense\n",
    "from sklearn.model_selection import train_test_split"
   ]
  },
  {
   "cell_type": "code",
   "execution_count": 51,
   "id": "1df6ca3d-ecfc-444a-896a-fef677d3084d",
   "metadata": {},
   "outputs": [],
   "source": [
    "train_f, test_f, train_t, test_t = train_test_split(feature, target, test_size=0.2, random_state=123)"
   ]
  },
  {
   "cell_type": "code",
   "execution_count": 57,
   "id": "8efb0fde-d610-47a2-9cf4-222ef481d4da",
   "metadata": {},
   "outputs": [],
   "source": [
    "model = Sequential()\n",
    "model.add(Dense(150, activation='relu', kernel_initializer='he_normal', input_dim=3))\n",
    "model.add(Dense(150, activation='relu', kernel_initializer='he_normal'))\n",
    "#model.add(BatchNormalization())\n",
    "model.add(Dense(1, activation='linear',  kernel_initializer='he_normal'))\n",
    "model.compile(optimizer='adam', loss='mse', metrics=['mae'])\n"
   ]
  },
  {
   "cell_type": "code",
   "execution_count": 59,
   "id": "0245cad2",
   "metadata": {},
   "outputs": [
    {
     "name": "stdout",
     "output_type": "stream",
     "text": [
      "Epoch 1/50\n"
     ]
    },
    {
     "ename": "ValueError",
     "evalue": "in user code:\n\n    File \"/opt/anaconda3/envs/tf/lib/python3.11/site-packages/keras/engine/training.py\", line 1284, in train_function  *\n        return step_function(self, iterator)\n    File \"/opt/anaconda3/envs/tf/lib/python3.11/site-packages/keras/engine/training.py\", line 1268, in step_function  **\n        outputs = model.distribute_strategy.run(run_step, args=(data,))\n    File \"/opt/anaconda3/envs/tf/lib/python3.11/site-packages/keras/engine/training.py\", line 1249, in run_step  **\n        outputs = model.train_step(data)\n    File \"/opt/anaconda3/envs/tf/lib/python3.11/site-packages/keras/engine/training.py\", line 1050, in train_step\n        y_pred = self(x, training=True)\n    File \"/opt/anaconda3/envs/tf/lib/python3.11/site-packages/keras/utils/traceback_utils.py\", line 70, in error_handler\n        raise e.with_traceback(filtered_tb) from None\n    File \"/opt/anaconda3/envs/tf/lib/python3.11/site-packages/keras/engine/input_spec.py\", line 219, in assert_input_compatibility\n        raise ValueError(\n\n    ValueError: Layer \"sequential_8\" expects 1 input(s), but it received 33 input tensors. Inputs received: [<tf.Tensor 'IteratorGetNext:0' shape=(None, 3) dtype=float32>, <tf.Tensor 'IteratorGetNext:1' shape=(None, 3) dtype=float32>, <tf.Tensor 'IteratorGetNext:2' shape=(None, 3) dtype=float32>, <tf.Tensor 'IteratorGetNext:3' shape=(None, 3) dtype=float32>, <tf.Tensor 'IteratorGetNext:4' shape=(None, 3) dtype=float32>, <tf.Tensor 'IteratorGetNext:5' shape=(None, 3) dtype=float32>, <tf.Tensor 'IteratorGetNext:6' shape=(None, 3) dtype=float32>, <tf.Tensor 'IteratorGetNext:7' shape=(None, 3) dtype=float32>, <tf.Tensor 'IteratorGetNext:8' shape=(None, 3) dtype=float32>, <tf.Tensor 'IteratorGetNext:9' shape=(None, 3) dtype=float32>, <tf.Tensor 'IteratorGetNext:10' shape=(None, 3) dtype=float32>, <tf.Tensor 'IteratorGetNext:11' shape=(None, 3) dtype=float32>, <tf.Tensor 'IteratorGetNext:12' shape=(None, 3) dtype=float32>, <tf.Tensor 'IteratorGetNext:13' shape=(None, 3) dtype=float32>, <tf.Tensor 'IteratorGetNext:14' shape=(None, 3) dtype=float32>, <tf.Tensor 'IteratorGetNext:15' shape=(None, 3) dtype=float32>, <tf.Tensor 'IteratorGetNext:16' shape=(None, 3) dtype=float32>, <tf.Tensor 'IteratorGetNext:17' shape=(None, 3) dtype=float32>, <tf.Tensor 'IteratorGetNext:18' shape=(None, 3) dtype=float32>, <tf.Tensor 'IteratorGetNext:19' shape=(None, 3) dtype=float32>, <tf.Tensor 'IteratorGetNext:20' shape=(None, 3) dtype=float32>, <tf.Tensor 'IteratorGetNext:21' shape=(None, 3) dtype=float32>, <tf.Tensor 'IteratorGetNext:22' shape=(None, 3) dtype=float32>, <tf.Tensor 'IteratorGetNext:23' shape=(None, 3) dtype=float32>, <tf.Tensor 'IteratorGetNext:24' shape=(None, 3) dtype=float32>, <tf.Tensor 'IteratorGetNext:25' shape=(None, 3) dtype=float32>, <tf.Tensor 'IteratorGetNext:26' shape=(None, 3) dtype=float32>, <tf.Tensor 'IteratorGetNext:27' shape=(None, 3) dtype=float32>, <tf.Tensor 'IteratorGetNext:28' shape=(None, 3) dtype=float32>, <tf.Tensor 'IteratorGetNext:29' shape=(None, 3) dtype=float32>, <tf.Tensor 'IteratorGetNext:30' shape=(None, 3) dtype=float32>, <tf.Tensor 'IteratorGetNext:31' shape=(None, 3) dtype=float32>, <tf.Tensor 'IteratorGetNext:32' shape=(None, 3) dtype=float32>]\n",
     "output_type": "error",
     "traceback": [
      "\u001b[0;31m---------------------------------------------------------------------------\u001b[0m",
      "\u001b[0;31mValueError\u001b[0m                                Traceback (most recent call last)",
      "Cell \u001b[0;32mIn[59], line 1\u001b[0m\n\u001b[0;32m----> 1\u001b[0m \u001b[43mmodel\u001b[49m\u001b[38;5;241;43m.\u001b[39;49m\u001b[43mfit\u001b[49m\u001b[43m(\u001b[49m\u001b[43mtrain_f\u001b[49m\u001b[43m,\u001b[49m\u001b[43m \u001b[49m\u001b[43mtrain_t\u001b[49m\u001b[43m,\u001b[49m\u001b[43m \u001b[49m\u001b[43mepochs\u001b[49m\u001b[38;5;241;43m=\u001b[39;49m\u001b[38;5;241;43m50\u001b[39;49m\u001b[43m,\u001b[49m\u001b[43m \u001b[49m\u001b[43mbatch_size\u001b[49m\u001b[38;5;241;43m=\u001b[39;49m\u001b[38;5;241;43m48\u001b[39;49m\u001b[43m,\u001b[49m\u001b[43m \u001b[49m\u001b[43mverbose\u001b[49m\u001b[38;5;241;43m=\u001b[39;49m\u001b[38;5;241;43m1\u001b[39;49m\u001b[43m)\u001b[49m\u001b[38;5;66;03m#, validation_data=(test_f, test_t))\u001b[39;00m\n\u001b[1;32m      2\u001b[0m model\u001b[38;5;241m.\u001b[39msummary()\n",
      "File \u001b[0;32m/opt/anaconda3/envs/tf/lib/python3.11/site-packages/keras/utils/traceback_utils.py:70\u001b[0m, in \u001b[0;36mfilter_traceback.<locals>.error_handler\u001b[0;34m(*args, **kwargs)\u001b[0m\n\u001b[1;32m     67\u001b[0m     filtered_tb \u001b[38;5;241m=\u001b[39m _process_traceback_frames(e\u001b[38;5;241m.\u001b[39m__traceback__)\n\u001b[1;32m     68\u001b[0m     \u001b[38;5;66;03m# To get the full stack trace, call:\u001b[39;00m\n\u001b[1;32m     69\u001b[0m     \u001b[38;5;66;03m# `tf.debugging.disable_traceback_filtering()`\u001b[39;00m\n\u001b[0;32m---> 70\u001b[0m     \u001b[38;5;28;01mraise\u001b[39;00m e\u001b[38;5;241m.\u001b[39mwith_traceback(filtered_tb) \u001b[38;5;28;01mfrom\u001b[39;00m \u001b[38;5;28;01mNone\u001b[39;00m\n\u001b[1;32m     71\u001b[0m \u001b[38;5;28;01mfinally\u001b[39;00m:\n\u001b[1;32m     72\u001b[0m     \u001b[38;5;28;01mdel\u001b[39;00m filtered_tb\n",
      "File \u001b[0;32m/var/folders/xp/7l59yrcj32l0b_ztq1h97qx80000gn/T/__autograph_generated_file0gp02ztf.py:15\u001b[0m, in \u001b[0;36mouter_factory.<locals>.inner_factory.<locals>.tf__train_function\u001b[0;34m(iterator)\u001b[0m\n\u001b[1;32m     13\u001b[0m \u001b[38;5;28;01mtry\u001b[39;00m:\n\u001b[1;32m     14\u001b[0m     do_return \u001b[38;5;241m=\u001b[39m \u001b[38;5;28;01mTrue\u001b[39;00m\n\u001b[0;32m---> 15\u001b[0m     retval_ \u001b[38;5;241m=\u001b[39m ag__\u001b[38;5;241m.\u001b[39mconverted_call(ag__\u001b[38;5;241m.\u001b[39mld(step_function), (ag__\u001b[38;5;241m.\u001b[39mld(\u001b[38;5;28mself\u001b[39m), ag__\u001b[38;5;241m.\u001b[39mld(iterator)), \u001b[38;5;28;01mNone\u001b[39;00m, fscope)\n\u001b[1;32m     16\u001b[0m \u001b[38;5;28;01mexcept\u001b[39;00m:\n\u001b[1;32m     17\u001b[0m     do_return \u001b[38;5;241m=\u001b[39m \u001b[38;5;28;01mFalse\u001b[39;00m\n",
      "\u001b[0;31mValueError\u001b[0m: in user code:\n\n    File \"/opt/anaconda3/envs/tf/lib/python3.11/site-packages/keras/engine/training.py\", line 1284, in train_function  *\n        return step_function(self, iterator)\n    File \"/opt/anaconda3/envs/tf/lib/python3.11/site-packages/keras/engine/training.py\", line 1268, in step_function  **\n        outputs = model.distribute_strategy.run(run_step, args=(data,))\n    File \"/opt/anaconda3/envs/tf/lib/python3.11/site-packages/keras/engine/training.py\", line 1249, in run_step  **\n        outputs = model.train_step(data)\n    File \"/opt/anaconda3/envs/tf/lib/python3.11/site-packages/keras/engine/training.py\", line 1050, in train_step\n        y_pred = self(x, training=True)\n    File \"/opt/anaconda3/envs/tf/lib/python3.11/site-packages/keras/utils/traceback_utils.py\", line 70, in error_handler\n        raise e.with_traceback(filtered_tb) from None\n    File \"/opt/anaconda3/envs/tf/lib/python3.11/site-packages/keras/engine/input_spec.py\", line 219, in assert_input_compatibility\n        raise ValueError(\n\n    ValueError: Layer \"sequential_8\" expects 1 input(s), but it received 33 input tensors. Inputs received: [<tf.Tensor 'IteratorGetNext:0' shape=(None, 3) dtype=float32>, <tf.Tensor 'IteratorGetNext:1' shape=(None, 3) dtype=float32>, <tf.Tensor 'IteratorGetNext:2' shape=(None, 3) dtype=float32>, <tf.Tensor 'IteratorGetNext:3' shape=(None, 3) dtype=float32>, <tf.Tensor 'IteratorGetNext:4' shape=(None, 3) dtype=float32>, <tf.Tensor 'IteratorGetNext:5' shape=(None, 3) dtype=float32>, <tf.Tensor 'IteratorGetNext:6' shape=(None, 3) dtype=float32>, <tf.Tensor 'IteratorGetNext:7' shape=(None, 3) dtype=float32>, <tf.Tensor 'IteratorGetNext:8' shape=(None, 3) dtype=float32>, <tf.Tensor 'IteratorGetNext:9' shape=(None, 3) dtype=float32>, <tf.Tensor 'IteratorGetNext:10' shape=(None, 3) dtype=float32>, <tf.Tensor 'IteratorGetNext:11' shape=(None, 3) dtype=float32>, <tf.Tensor 'IteratorGetNext:12' shape=(None, 3) dtype=float32>, <tf.Tensor 'IteratorGetNext:13' shape=(None, 3) dtype=float32>, <tf.Tensor 'IteratorGetNext:14' shape=(None, 3) dtype=float32>, <tf.Tensor 'IteratorGetNext:15' shape=(None, 3) dtype=float32>, <tf.Tensor 'IteratorGetNext:16' shape=(None, 3) dtype=float32>, <tf.Tensor 'IteratorGetNext:17' shape=(None, 3) dtype=float32>, <tf.Tensor 'IteratorGetNext:18' shape=(None, 3) dtype=float32>, <tf.Tensor 'IteratorGetNext:19' shape=(None, 3) dtype=float32>, <tf.Tensor 'IteratorGetNext:20' shape=(None, 3) dtype=float32>, <tf.Tensor 'IteratorGetNext:21' shape=(None, 3) dtype=float32>, <tf.Tensor 'IteratorGetNext:22' shape=(None, 3) dtype=float32>, <tf.Tensor 'IteratorGetNext:23' shape=(None, 3) dtype=float32>, <tf.Tensor 'IteratorGetNext:24' shape=(None, 3) dtype=float32>, <tf.Tensor 'IteratorGetNext:25' shape=(None, 3) dtype=float32>, <tf.Tensor 'IteratorGetNext:26' shape=(None, 3) dtype=float32>, <tf.Tensor 'IteratorGetNext:27' shape=(None, 3) dtype=float32>, <tf.Tensor 'IteratorGetNext:28' shape=(None, 3) dtype=float32>, <tf.Tensor 'IteratorGetNext:29' shape=(None, 3) dtype=float32>, <tf.Tensor 'IteratorGetNext:30' shape=(None, 3) dtype=float32>, <tf.Tensor 'IteratorGetNext:31' shape=(None, 3) dtype=float32>, <tf.Tensor 'IteratorGetNext:32' shape=(None, 3) dtype=float32>]\n"
     ]
    }
   ],
   "source": [
    "model.fit(train_f, train_t, epochs=50, batch_size=48, verbose=1)#, validation_data=(test_f, test_t))\n",
    "model.summary()"
   ]
  }
 ],
 "metadata": {
  "kernelspec": {
   "display_name": "tf",
   "language": "python",
   "name": "python3"
  },
  "language_info": {
   "codemirror_mode": {
    "name": "ipython",
    "version": 3
   },
   "file_extension": ".py",
   "mimetype": "text/x-python",
   "name": "python",
   "nbconvert_exporter": "python",
   "pygments_lexer": "ipython3",
   "version": "3.11.5"
  }
 },
 "nbformat": 4,
 "nbformat_minor": 5
}
