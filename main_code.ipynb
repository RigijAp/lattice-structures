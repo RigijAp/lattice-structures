{
 "cells": [
  {
   "cell_type": "code",
   "execution_count": 1,
   "metadata": {},
   "outputs": [],
   "source": [
    "import pandas as pd\n",
    "import numpy as np\n",
    "import trimesh\n",
    "import networkx as nx"
   ]
  },
  {
   "cell_type": "code",
   "execution_count": 2,
   "metadata": {},
   "outputs": [],
   "source": [
    "file_stl = 'stl/{}.stl'\n",
    "file_node = 'feature/nodes/{}_node.txt'\n",
    "file_ver_count = 'feature/vertex/{}_vertex_count.txt'\n",
    "file_count = 'feature/counter_all.txt'\n",
    "file_adj = 'feature/adj/{}_adj.txt'"
   ]
  },
  {
   "cell_type": "markdown",
   "metadata": {},
   "source": [
    "adjancenty matrix + verticies + edges: parcing"
   ]
  },
  {
   "cell_type": "code",
   "execution_count": null,
   "metadata": {},
   "outputs": [],
   "source": [
    "n1 =1\n",
    "n2 = 5100\n",
    "\n",
    "#n1 = 15\n",
    "#n2 = 16"
   ]
  },
  {
   "cell_type": "code",
   "execution_count": 4,
   "metadata": {},
   "outputs": [],
   "source": [
    "minx, maxx = 0, 5\n",
    "miny, maxy = 0, 5\n",
    "minz, maxz = 0, 5"
   ]
  },
  {
   "cell_type": "code",
   "execution_count": null,
   "metadata": {},
   "outputs": [],
   "source": [
    "nodes = []\n",
    "adj_matr = []\n",
    "edges_parce = []\n",
    "counter = []\n",
    "\n",
    "\n",
    "\n",
    "for n in range(n1, n2+1):\n",
    "  try:\n",
    "    \n",
    "    vox =  file_stl.format(n) \n",
    "    mesh = trimesh.load(vox)\n",
    "\n",
    "    print(n)\n",
    "    \n",
    "    vertices = mesh.vertices\n",
    "    triangles = mesh.faces\n",
    "    \n",
    "    edge = []\n",
    "    \n",
    "    for triangle in triangles:\n",
    "      if (minx <= vertices[triangle[0]][0] <=maxx and \n",
    "          miny <= vertices[triangle[0]][1] <=maxy and\n",
    "          minz <= vertices[triangle[0]][2] <=maxz and\n",
    "          minx <= vertices[triangle[1]][0] <=maxx and\n",
    "          miny <= vertices[triangle[1]][1] <=maxy and\n",
    "          minz <= vertices[triangle[1]][2] <=maxz and\n",
    "          minx <= vertices[triangle[2]][0] <=maxx and\n",
    "          miny <= vertices[triangle[2]][1] <=maxy and\n",
    "          minz <= vertices[triangle[2]][2] <=maxz):\n",
    "         \n",
    "        edge.append((triangle[0], triangle[1]))\n",
    "        edge.append((triangle[1], triangle[2]))\n",
    "        edge.append((triangle[2], triangle[0]))\n",
    "      \n",
    "    \n",
    "    edges = np.array(edge)\n",
    "    edges_ = dict.fromkeys([tuple(sorted(edg)) for edg in edges])\n",
    "    \n",
    "    v_c = np.array([vertices[i] for i in [item[0] for item in edges_]])\n",
    "    v_ind = np.array([item[0] for item in edges_] + [item[1] for item in edges_ ])\n",
    "    v_ind  = np.unique(v_ind)\n",
    "    \n",
    "    adj = np.zeros((len(v_ind), len(v_ind)))\n",
    "    \n",
    "    vert_ind = {v: edge[0] for j, v in enumerate(v_ind)}\n",
    "    \n",
    "    for e in edges:\n",
    "      i,j = e\n",
    "      i_ind = int(list(vert_ind.keys()).index(i))\n",
    "      j_ind = int(list(vert_ind.keys()).index(j))\n",
    "      adj[i_ind, j_ind] = 1\n",
    "      adj[j_ind, i_ind] = 1\n",
    "\n",
    "    np.savetxt(file_adj.format(n), adj)\n",
    "    np.savetxt(file_ver_count.format(n), v_ind)\n",
    "    #with open(file_adj.format(n), 'w') as f:\n",
    "    #  for line in adj:\n",
    "    #    f.write(f\"{line}\\n\")\n",
    "\n",
    "    with open(file_node.format(n), 'w') as f:\n",
    "      for line in v_c:\n",
    "        f.write(f\"{line}\\n\")\n",
    "    \n",
    "    counter = np.append(counter, n)\n",
    "    nodes = np.append(nodes, adj)\n",
    "    edges_parce = np.append(edges_parce, edges_)\n",
    "\n",
    "  except Exception as e:\n",
    "    print(n, '   ooooops!!!')\n",
    "\n",
    "\n",
    "#np.savetxt(file_count.format, counter)\n",
    "with open(file_count, 'w') as f:\n",
    "    for line in counter:\n",
    "        f.write(f\"{line}\\n\")"
   ]
  }
 ],
 "metadata": {
  "kernelspec": {
   "display_name": "tf",
   "language": "python",
   "name": "python3"
  },
  "language_info": {
   "codemirror_mode": {
    "name": "ipython",
    "version": 3
   },
   "file_extension": ".py",
   "mimetype": "text/x-python",
   "name": "python",
   "nbconvert_exporter": "python",
   "pygments_lexer": "ipython3",
   "version": "3.11.5"
  }
 },
 "nbformat": 4,
 "nbformat_minor": 2
}
