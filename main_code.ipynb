{
 "cells": [
  {
   "cell_type": "code",
   "execution_count": 6,
   "metadata": {},
   "outputs": [
    {
     "name": "stdout",
     "output_type": "stream",
     "text": [
      "Python 3.11.5\n"
     ]
    }
   ],
   "source": [
    "!python --version"
   ]
  },
  {
   "cell_type": "code",
   "execution_count": 1,
   "metadata": {},
   "outputs": [],
   "source": [
    "import pandas as pd\n",
    "import numpy as np\n",
    "import trimesh\n",
    "import networkx as nx"
   ]
  },
  {
   "cell_type": "code",
   "execution_count": 2,
   "metadata": {},
   "outputs": [],
   "source": [
    "file_stl = 'stl/{}.stl'\n",
    "file_node = 'feature/nodes/{}_node.txt'\n",
    "file_ver_count = 'feature/vertex/{}_vertex_count.txt'\n",
    "file_count = 'feature/counter_all.txt'\n",
    "file_adj = 'feature/adj/{}_adj.txt'"
   ]
  },
  {
   "cell_type": "markdown",
   "metadata": {},
   "source": [
    "adjancenty matrix + verticies + edges: parcing"
   ]
  },
  {
   "cell_type": "code",
   "execution_count": 3,
   "metadata": {},
   "outputs": [],
   "source": [
    "n1 =5066\n",
    "n2 = 5100\n",
    "\n",
    "#n1 = 15\n",
    "#n2 = 16"
   ]
  },
  {
   "cell_type": "code",
   "execution_count": 4,
   "metadata": {},
   "outputs": [],
   "source": [
    "minx, maxx = 0, 5\n",
    "miny, maxy = 0, 5\n",
    "minz, maxz = 0, 5"
   ]
  },
  {
   "cell_type": "code",
   "execution_count": 5,
   "metadata": {},
   "outputs": [
    {
     "name": "stdout",
     "output_type": "stream",
     "text": [
      "5066\n",
      "5067    ooooops!!!\n",
      "5068    ooooops!!!\n",
      "5069\n",
      "5070    ooooops!!!\n",
      "5071    ooooops!!!\n",
      "5072\n",
      "5073    ooooops!!!\n",
      "5074    ooooops!!!\n",
      "5075\n",
      "5076\n",
      "5077\n",
      "5078\n",
      "5079\n",
      "5080    ooooops!!!\n",
      "5081    ooooops!!!\n",
      "5082    ooooops!!!\n",
      "5083    ooooops!!!\n",
      "5084\n",
      "5085\n",
      "5086    ooooops!!!\n",
      "5087\n",
      "5088\n",
      "5089\n",
      "5090\n",
      "5091    ooooops!!!\n",
      "5092\n",
      "5093\n",
      "5094\n",
      "5095\n",
      "5096    ooooops!!!\n",
      "5097\n",
      "5098\n",
      "5099\n",
      "5100    ooooops!!!\n"
     ]
    }
   ],
   "source": [
    "nodes = []\n",
    "adj_matr = []\n",
    "edges_parce = []\n",
    "counter = []\n",
    "\n",
    "\n",
    "\n",
    "for n in range(n1, n2+1):\n",
    "  try:\n",
    "    \n",
    "    vox =  file_stl.format(n) \n",
    "    mesh = trimesh.load(vox)\n",
    "\n",
    "    print(n)\n",
    "    \n",
    "    vertices = mesh.vertices\n",
    "    triangles = mesh.faces\n",
    "    \n",
    "    edge = []\n",
    "    \n",
    "    for triangle in triangles:\n",
    "      if (minx <= vertices[triangle[0]][0] <=maxx and \n",
    "          miny <= vertices[triangle[0]][1] <=maxy and\n",
    "          minz <= vertices[triangle[0]][2] <=maxz and\n",
    "          minx <= vertices[triangle[1]][0] <=maxx and\n",
    "          miny <= vertices[triangle[1]][1] <=maxy and\n",
    "          minz <= vertices[triangle[1]][2] <=maxz and\n",
    "          minx <= vertices[triangle[2]][0] <=maxx and\n",
    "          miny <= vertices[triangle[2]][1] <=maxy and\n",
    "          minz <= vertices[triangle[2]][2] <=maxz):\n",
    "         \n",
    "        edge.append((triangle[0], triangle[1]))\n",
    "        edge.append((triangle[1], triangle[2]))\n",
    "        edge.append((triangle[2], triangle[0]))\n",
    "      \n",
    "    \n",
    "    edges = np.array(edge)\n",
    "    edges_ = dict.fromkeys([tuple(sorted(edg)) for edg in edges])\n",
    "    \n",
    "    v_c = np.array([vertices[i] for i in [item[0] for item in edges_]])\n",
    "    v_ind = np.array([item[0] for item in edges_] + [item[1] for item in edges_ ])\n",
    "    v_ind  = np.unique(v_ind)\n",
    "    \n",
    "    adj = np.zeros((len(v_ind), len(v_ind)))\n",
    "    \n",
    "    vert_ind = {v: edge[0] for j, v in enumerate(v_ind)}\n",
    "    \n",
    "    for e in edges:\n",
    "      i,j = e\n",
    "      i_ind = int(list(vert_ind.keys()).index(i))\n",
    "      j_ind = int(list(vert_ind.keys()).index(j))\n",
    "      adj[i_ind, j_ind] = 1\n",
    "      adj[j_ind, i_ind] = 1\n",
    "\n",
    "    np.savetxt(file_adj.format(n), adj)\n",
    "    np.savetxt(file_ver_count.format(n), v_ind)\n",
    "    #with open(file_adj.format(n), 'w') as f:\n",
    "    #  for line in adj:\n",
    "    #    f.write(f\"{line}\\n\")\n",
    "\n",
    "    with open(file_node.format(n), 'w') as f:\n",
    "      for line in v_c:\n",
    "        f.write(f\"{line}\\n\")\n",
    "    \n",
    "    counter = np.append(counter, n)\n",
    "    nodes = np.append(nodes, adj)\n",
    "    edges_parce = np.append(edges_parce, edges_)\n",
    "\n",
    "  except Exception as e:\n",
    "    print(n, '   ooooops!!!')\n",
    "\n",
    "\n",
    "#np.savetxt(file_count.format, counter)\n",
    "with open(file_count, 'w') as f:\n",
    "    for line in counter:\n",
    "        f.write(f\"{line}\\n\")"
   ]
  },
  {
   "cell_type": "markdown",
   "metadata": {},
   "source": [
    "RUBBISH\n"
   ]
  },
  {
   "cell_type": "code",
   "execution_count": 14,
   "metadata": {},
   "outputs": [],
   "source": [
    "vox =  file_stl.format(16) \n",
    "mesh = trimesh.load(vox)\n",
    "\n",
    "minx, maxx = 0, 5\n",
    "miny, maxy = 0, 5\n",
    "minz, maxz = 0, 5\n",
    "\n",
    "#vertices = mesh.vertices[ (mesh.vertices[:,0]>= minx) & (mesh.vertices[:,0]<= maxx) &\n",
    "#                         (mesh.vertices[:,1]>= minx) & (mesh.vertices[:,1]<= maxx) &\n",
    "#                         (mesh.vertices[:,2]>= minx) & (mesh.vertices[:,2]<= maxx)]\n",
    "\n",
    "vertices = mesh.vertices\n",
    "triangles = mesh.faces\n",
    "edge = []\n",
    "\n",
    "for triangle in triangles:\n",
    "    if (minx <= vertices[triangle[0]][0] <=maxx and \n",
    "        miny <= vertices[triangle[0]][1] <=maxy and\n",
    "        minz <= vertices[triangle[0]][2] <=maxz and\n",
    "        minx <= vertices[triangle[1]][0] <=maxx and\n",
    "        miny <= vertices[triangle[1]][1] <=maxy and\n",
    "        minz <= vertices[triangle[1]][2] <=maxz and\n",
    "        minx <= vertices[triangle[2]][0] <=maxx and\n",
    "        miny <= vertices[triangle[2]][1] <=maxy and\n",
    "        minz <= vertices[triangle[2]][2] <=maxz):\n",
    "\n",
    "        edge.append((triangle[0], triangle[1]))\n",
    "        edge.append((triangle[1], triangle[2]))\n",
    "        edge.append((triangle[2], triangle[0]))\n",
    "\n"
   ]
  },
  {
   "cell_type": "code",
   "execution_count": 15,
   "metadata": {},
   "outputs": [],
   "source": [
    "edges = np.array(edge)"
   ]
  },
  {
   "cell_type": "code",
   "execution_count": 16,
   "metadata": {},
   "outputs": [
    {
     "data": {
      "text/plain": [
       "23234"
      ]
     },
     "execution_count": 16,
     "metadata": {},
     "output_type": "execute_result"
    }
   ],
   "source": [
    "edges_ = dict.fromkeys([tuple(sorted(edg)) for edg in edges])\n",
    "len(edges_)"
   ]
  },
  {
   "cell_type": "code",
   "execution_count": 17,
   "metadata": {},
   "outputs": [
    {
     "data": {
      "text/plain": [
       "7968"
      ]
     },
     "execution_count": 17,
     "metadata": {},
     "output_type": "execute_result"
    }
   ],
   "source": [
    "v_c = np.array([vertices[i] for i in [item[0] for item in edges_]])\n",
    "v_ind = np.array([item[0] for item in edges_] + [item[1] for item in edges_ ])\n",
    "v_ind  = np.unique(v_ind)\n",
    "len(v_ind)"
   ]
  },
  {
   "cell_type": "code",
   "execution_count": 18,
   "metadata": {},
   "outputs": [
    {
     "name": "stdout",
     "output_type": "stream",
     "text": [
      "[ 6937  6938  6939 ... 62224 62231 62240]\n"
     ]
    }
   ],
   "source": [
    "vert = np.unique(edge)\n",
    "print(v_ind)"
   ]
  },
  {
   "cell_type": "code",
   "execution_count": null,
   "metadata": {},
   "outputs": [],
   "source": [
    "adj = np.zeros((len(v_ind), len(v_ind)))\n",
    "\n",
    "vert_ind = {v: i for j, v in enumerate(v_ind)}\n",
    "\n",
    "for e in edges:\n",
    "    i,j = e\n",
    "    i_ind = int(list(vert_ind.keys()).index(i))\n",
    "    j_ind = int(list(vert_ind.keys()).index(j))\n",
    "    adj[i_ind, j_ind] = 1\n",
    "    adj[j_ind, i_ind] = 1"
   ]
  },
  {
   "cell_type": "code",
   "execution_count": 184,
   "metadata": {},
   "outputs": [
    {
     "data": {
      "text/plain": [
       "(7968, 7968)"
      ]
     },
     "execution_count": 184,
     "metadata": {},
     "output_type": "execute_result"
    }
   ],
   "source": [
    "np.shape(adj)"
   ]
  },
  {
   "cell_type": "code",
   "execution_count": 185,
   "metadata": {},
   "outputs": [
    {
     "data": {
      "text/plain": [
       "array([[0., 1., 0., ..., 0., 0., 0.],\n",
       "       [1., 0., 1., ..., 0., 0., 0.],\n",
       "       [0., 1., 0., ..., 0., 0., 0.],\n",
       "       ...,\n",
       "       [0., 0., 0., ..., 0., 1., 1.],\n",
       "       [0., 0., 0., ..., 1., 0., 1.],\n",
       "       [0., 0., 0., ..., 1., 1., 0.]])"
      ]
     },
     "execution_count": 185,
     "metadata": {},
     "output_type": "execute_result"
    }
   ],
   "source": [
    "adj"
   ]
  },
  {
   "cell_type": "code",
   "execution_count": null,
   "metadata": {},
   "outputs": [],
   "source": []
  },
  {
   "cell_type": "markdown",
   "metadata": {},
   "source": [
    "Feature-target party"
   ]
  },
  {
   "cell_type": "code",
   "execution_count": null,
   "metadata": {},
   "outputs": [
    {
     "name": "stdout",
     "output_type": "stream",
     "text": [
      "16\n"
     ]
    }
   ],
   "source": [
    "feature = []\n",
    "target = []\n",
    "counter = []\n",
    "\n",
    "for n in range(n1, n2):\n",
    "  try:\n",
    "    G = nx.Graph()\n",
    "    print(n)\n",
    "\n",
    "    vox =  file_stl.format(n) \n",
    "    stl_file = trimesh.load(vox)\n",
    "    \n",
    "    vertices_matrix = stl_file.vertices\n",
    "\n",
    "    vertices_matrix_z = np.delete(vertices_matrix, 0, axis=1)\n",
    "    vertices_matrix_z = np.delete(vertices_matrix_z, 0, axis=1)\n",
    "    #vertices_matrix_z = np.append(vertices_matrix_z, np.zeros(10000 - len(vertices_matrix_z)))\n",
    "\n",
    "    vertices_matrix_y = np.delete(vertices_matrix, 0, axis=1)\n",
    "    vertices_matrix_y = np.delete(vertices_matrix_y, 1, axis=1)\n",
    "    #vertices_matrix_y = np.append(vertices_matrix_y, np.zeros(150000 - len(vertices_matrix_y)))\n",
    "\n",
    "    vertices_matrix_x = np.delete(vertices_matrix, 1, axis=1)\n",
    "    vertices_matrix_x = np.delete(vertices_matrix_x, 1, axis=1)\n",
    "    #vertices_matrix_x = np.append(vertices_matrix_x, np.zeros(150000 - len(vertices_matrix_x)))\n",
    "\n",
    "    vert_m_x = []\n",
    "    vert_m_y = []\n",
    "    vert_m_z = []\n",
    "\n",
    "    for j in range(1, len(vertices_matrix_x)):\n",
    "      if (vertices_matrix_x[j]>0)&(vertices_matrix_x[j]<5)&(vertices_matrix_y[j]>0)&(vertices_matrix_y[j]<5)&(vertices_matrix_z[j]>0)&(vertices_matrix_z[j]<5):\n",
    "        vert_m_x = np.append(vert_m_x, vertices_matrix_x[j])\n",
    "        vert_m_y = np.append(vert_m_y, vertices_matrix_y[j])\n",
    "        vert_m_z = np.append(vert_m_z, vertices_matrix_z[j])\n",
    "\n",
    "    nodes_coord = np.stack((vert_m_z, vert_m_y, vert_m_z), axis=1)\n",
    "\n",
    "    #np.savetxt(file_node.format(n), nodes_coord)\n",
    "\n",
    "    with open(file_node.format(n), 'w') as f:\n",
    "      for line in nodes_coord:\n",
    "        f.write(f\"{line}\\n\")\n",
    "\n",
    "    counter = np.append(counter, n)\n",
    "  except Exception as e:\n",
    "    print(n, '   ooooops!!!')\n",
    "\n",
    "\n",
    "\n",
    "\n",
    "with open(file_count, 'w') as f:\n",
    "    for line in counter:\n",
    "        f.write(f\"{line}\\n\")"
   ]
  },
  {
   "cell_type": "markdown",
   "metadata": {},
   "source": [
    "DRAFT"
   ]
  },
  {
   "cell_type": "code",
   "execution_count": 13,
   "metadata": {},
   "outputs": [],
   "source": [
    "n1 = 5\n",
    "n2 = 16"
   ]
  },
  {
   "cell_type": "code",
   "execution_count": 15,
   "metadata": {},
   "outputs": [
    {
     "name": "stdout",
     "output_type": "stream",
     "text": [
      "16\n",
      "(62287, 62287)\n",
      "(62287, 62287)\n"
     ]
    }
   ],
   "source": [
    "for n in range(n1, n2):\n",
    "  try:\n",
    "    G = nx.Graph()\n",
    "\n",
    "    vox =  file_stl.format(n) #change the path!!!\n",
    "    stl_file = trimesh.load(vox)\n",
    "\n",
    "    print(n)\n",
    "\n",
    "    for vertex_id, vertex in enumerate(stl_file.vertices):\n",
    "        G.add_node(vertex_id)\n",
    "    \n",
    "    adjatr = nx.to_numpy_array(G)\n",
    "    print(np.shape(adjatr))\n",
    "    #print(adjatr)\n",
    "\n",
    "    for face in stl_file.faces:\n",
    "        for i in range (3):\n",
    "            j = (i+1) % 3\n",
    "            G.add_edge(face[i], face[j])\n",
    "\n",
    "    adj_matr = nx.to_numpy_array(G)\n",
    "    print(np.shape(adj_matr))\n",
    "    #print(adj_matr)\n",
    "    #np.savetxt(file_adj.format(n), adj_matr)\n",
    "\n",
    "  except Exception as e:\n",
    "    print(n, '   ooooops!!!')            "
   ]
  },
  {
   "cell_type": "code",
   "execution_count": null,
   "metadata": {},
   "outputs": [],
   "source": [
    "adj_matr"
   ]
  }
 ],
 "metadata": {
  "kernelspec": {
   "display_name": "tf",
   "language": "python",
   "name": "python3"
  },
  "language_info": {
   "codemirror_mode": {
    "name": "ipython",
    "version": 3
   },
   "file_extension": ".py",
   "mimetype": "text/x-python",
   "name": "python",
   "nbconvert_exporter": "python",
   "pygments_lexer": "ipython3",
   "version": "3.11.5"
  }
 },
 "nbformat": 4,
 "nbformat_minor": 2
}
